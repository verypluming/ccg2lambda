{
 "cells": [
  {
   "cell_type": "code",
   "execution_count": 2,
   "metadata": {
    "collapsed": true
   },
   "outputs": [],
   "source": [
    "import glob\n",
    "import os\n",
    "import re\n",
    "import numpy as np\n",
    "import pprint"
   ]
  },
  {
   "cell_type": "code",
   "execution_count": 13,
   "metadata": {
    "collapsed": false
   },
   "outputs": [],
   "source": [
    "subgoals = glob.glob(\"./results/*.subgoal.txt\")\n",
    "w = open(\"phrase_axioms.txt\", \"w\")\n",
    "for subgoal in subgoals:\n",
    "    fileid = re.search(\"./results/sick_trial_(.*).subgoal.txt\", subgoal).group(1)\n",
    "    f = open(subgoal, \"r\")\n",
    "    infos=f.readlines()\n",
    "    f.close()\n",
    "    subgoalflg = 0\n",
    "    premises, content_subgoals, relation_subgoals, premise_preds, subgoal_preds, premise_args, subgoal_args= [], [], [], [], [], [], []\n",
    "    for info in infos:\n",
    "        if re.search(\"defined\", info):\n",
    "            premises, content_subgoals, relation_subgoals, premise_preds, subgoal_preds, premise_args, subgoal_args= [], [], [], [], [], [], []\n",
    "            break\n",
    "        if re.search(\"H[0-9]? : \", info) and not \"True\" in info:\n",
    "            premise = re.search(\"H[0-9]? :(.*)\\n\", info).group(1)\n",
    "            if premise != \"\":\n",
    "                premises.append(premise)\n",
    "                premise_list = premise.split()\n",
    "                if len(premise_list) > 0:\n",
    "                    premise_pred = premise_list[0]\n",
    "                    premise_preds.append(premise_pred)\n",
    "                    premise_arg = \" \".join(premise_list[1:])\n",
    "                    premise_args.append(premise_arg)\n",
    "        if re.search(\"============================\", info) or re.search(\"subgoal [0-9]* is:\", info):\n",
    "            subgoalflg = 1\n",
    "            continue\n",
    "        if subgoalflg == 1:\n",
    "            if \"=\" in info:\n",
    "                #keep realtional subgoals\n",
    "                relation_subgoals.append(info.strip())\n",
    "            elif \"False\" in info:\n",
    "                #assume False as relational subgoals\n",
    "                relation_subgoals.append(info.strip())\n",
    "            else:\n",
    "                subgoal = info.strip()\n",
    "                if subgoal != \"\" and subgoal not in content_subgoals:\n",
    "                    # check if subgoal is not None or duplicated\n",
    "                    content_subgoals.append(subgoal)\n",
    "                    subgoal_list = subgoal.split()\n",
    "                    if len(subgoal_list) > 0:\n",
    "                        subgoal_pred = subgoal_list[0]\n",
    "                        subgoal_preds.append(subgoal_pred)\n",
    "                        subgoal_arg = \" \".join(subgoal_list[1:])\n",
    "                        subgoal_args.append(subgoal_arg)\n",
    "    np_premises = np.array(premises)\n",
    "    np_subgoals = np.array(content_subgoals)           \n",
    "    for subgoal_arg in subgoal_args:\n",
    "        phrase_flg = 0\n",
    "        if subgoal_arg in premise_args:\n",
    "            #perfect match\n",
    "            match_premise_index = [i for i, x in enumerate(premise_args) if x == subgoal_arg]\n",
    "            match_subgoal_index = [i for i, x in enumerate(subgoal_args) if x == subgoal_arg]\n",
    "            w.write(\"id: {0}\\tperfect_pair_candidate\\tpremise: {1}\\tsubgoal: {2}\\n\".format(fileid, np_premises[match_premise_index], np_subgoals[match_subgoal_index]))\n",
    "            phrase_flg = 1\n",
    "            continue\n",
    "        else:\n",
    "            #partial match\n",
    "            for premise_arg in premise_args:\n",
    "                if premise_arg in subgoal_arg:\n",
    "                    match_premise_index = [i for i, x in enumerate(premise_args) if x == premise_arg]\n",
    "                    match_subgoal_index = [i for i, x in enumerate(subgoal_args) if x == subgoal_arg]\n",
    "                    w.write(\"id:{0}\\tpartial_pair_candidate\\tpremise: {1}\\tsubgoal: {2}\\n\".format(fileid, np_premises[match_premise_index], np_subgoals[match_subgoal_index]))\n",
    "                    phrase_flg = 1\n",
    "                    break\n",
    "        if phrase_flg == 0:\n",
    "            match_subgoal_index = [i for i, x in enumerate(subgoal_args) if x == subgoal_arg]\n",
    "            #make subgoal sets who share the same existential variables\n",
    "            w.write(\"id:{0}\\tno_candidate\\tpremise: {1}\\tsubgoal: {2}\\n\".format(fileid, premises, np_subgoals[match_subgoal_index]))\n",
    "\n",
    "w.close()\n",
    "    #pprint.pprint(premises)        \n",
    "    #print(\"premises:{0}, subgoals:{1}, premise_pred:{2}, subgoal_pred:{3}, premise_arg:{4}, subgoal_arg:{5}\"\\\n",
    "    #    .format(premises, content_subgoals, premise_preds, subgoal_preds, premise_args, subgoal_args))"
   ]
  },
  {
   "cell_type": "code",
   "execution_count": null,
   "metadata": {
    "collapsed": true
   },
   "outputs": [],
   "source": []
  }
 ],
 "metadata": {
  "kernelspec": {
   "display_name": "Python 3",
   "language": "python",
   "name": "python3"
  },
  "language_info": {
   "codemirror_mode": {
    "name": "ipython",
    "version": 3
   },
   "file_extension": ".py",
   "mimetype": "text/x-python",
   "name": "python",
   "nbconvert_exporter": "python",
   "pygments_lexer": "ipython3",
   "version": "3.5.0"
  }
 },
 "nbformat": 4,
 "nbformat_minor": 1
}
